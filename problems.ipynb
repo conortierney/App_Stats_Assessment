{
 "cells": [
  {
   "cell_type": "markdown",
   "id": "99e3531b",
   "metadata": {},
   "source": [
    "# Problems Notebook\n",
    "A collection of coding and data analysis problems with their solutions.\n",
    "\n",
    "\n",
    "\n",
    "## Problem 1: Extending the Lady Tasting Tea\n",
    "use numpy\n",
    "use p-value"
   ]
  },
  {
   "cell_type": "markdown",
   "id": "026ccb52",
   "metadata": {},
   "source": [
    "## Problem 2:Normal Distribution\n",
    "Compute the standard deviation"
   ]
  },
  {
   "cell_type": "markdown",
   "id": "d5bd290e",
   "metadata": {},
   "source": [
    "# END"
   ]
  }
 ],
 "metadata": {
  "language_info": {
   "name": "python"
  }
 },
 "nbformat": 4,
 "nbformat_minor": 5
}
