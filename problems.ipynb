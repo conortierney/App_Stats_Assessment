{
 "cells": [
  {
   "cell_type": "markdown",
   "id": "99e3531b",
   "metadata": {},
   "source": [
    "# Problems Notebook\n",
    "A collection of coding and data analysis problems with their solutions.\n",
    "\n",
    "\n",
    "## Problem 1: Extending the Lady Tasting Tea\n",
    "use numpy\n",
    "use p-value"
   ]
  },
  {
   "cell_type": "markdown",
   "id": "e0a9e86f",
   "metadata": {},
   "source": [
    "### Problem description\n",
    "\n",
    "Extend the classic “Lady Tasting Tea” experiment. The original consisted of 8 cups (4 tea-first, 4 milk-first). Now imagine 12 cups: 8 tea-first and 4 milk-first. A participant claims they can identify the order for every cup.\n",
    "\n",
    "Using numpy, simulate the experiment by repeatedly randomizing the cup labels and checking how often a random guesser would correctly label all 12 cups. Estimate the probability of perfect accuracy by chance.\n",
    "\n",
    "Compute and compare that probability with the probability for the original 8-cup (4/4) setup."
   ]
  },
  {
   "cell_type": "markdown",
   "id": "61b3874a",
   "metadata": {},
   "source": [
    "## References\n",
    "\n"
   ]
  },
  {
   "cell_type": "code",
   "execution_count": null,
   "id": "3c4cb57a",
   "metadata": {},
   "outputs": [],
   "source": []
  },
  {
   "cell_type": "markdown",
   "id": "026ccb52",
   "metadata": {},
   "source": [
    "## Problem 2:Normal Distribution\n",
    "Compute the standard deviation"
   ]
  },
  {
   "cell_type": "markdown",
   "id": "d5bd290e",
   "metadata": {},
   "source": [
    "# END"
   ]
  }
 ],
 "metadata": {
  "kernelspec": {
   "display_name": "Python 3",
   "language": "python",
   "name": "python3"
  },
  "language_info": {
   "codemirror_mode": {
    "name": "ipython",
    "version": 3
   },
   "file_extension": ".py",
   "mimetype": "text/x-python",
   "name": "python",
   "nbconvert_exporter": "python",
   "pygments_lexer": "ipython3",
   "version": "3.12.1"
  }
 },
 "nbformat": 4,
 "nbformat_minor": 5
}
